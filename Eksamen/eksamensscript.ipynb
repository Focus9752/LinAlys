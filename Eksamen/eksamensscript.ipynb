{
 "cells": [
  {
   "cell_type": "markdown",
   "metadata": {},
   "source": [
    "### Stationære punkter for fkt. af to variable"
   ]
  },
  {
   "cell_type": "code",
   "execution_count": null,
   "metadata": {},
   "outputs": [],
   "source": [
    "import sympy as sp\n",
    "from sympy.abc import x, y\n",
    "from sympy.matrices import hessian\n",
    "\n",
    "sp.init_printing()\n",
    "\n",
    "# Definer funktionen her\n",
    "f = sp.sin(x)**2 + sp.cos(y)**2\n",
    "\n",
    "display(f)\n",
    "\n",
    "# Udregning af gradienten\n",
    "grad = sp.derive_by_array(f, (x, y))\n",
    "\n",
    "print(\"Gradienten er:\")\n",
    "display(grad)\n",
    "\n",
    "# Udregning af Hesse-matricen\n",
    "H = hessian(f, [x, y])\n",
    "\n",
    "print(\"Hesse-matricen er:\")\n",
    "display(H)\n",
    "\n",
    "# Udregning af kritiske punkter\n",
    "solutions = sp.solve(grad, dict=True)\n",
    "\n",
    "print(\"Kritiske punkter er:\")\n",
    "display(solutions)\n",
    "\n",
    "\n",
    "\n",
    "# Udregning af de kritiske punkters stabilitet\n",
    "for sol in solutions:\n",
    "\n",
    "    # Indsæt x- og y-værdierne i hessematricen\n",
    "    H_eval = H.subs(x, sol[x]).subs(y, sol[y])\n",
    "\n",
    "    # Udregn A og D\n",
    "    D = sp.det(H_eval)\n",
    "    A = H_eval[0, 0]\n",
    "\n",
    "    print()\n",
    "    print(\"Punktet\")\n",
    "    display(sol)\n",
    "    print(\"har A = {} og D = {}\".format(A, D))\n",
    "\n",
    "    # Tjek om det er et minimum, maksimum eller sadelpunkt\n",
    "    if D < 0:\n",
    "        print(\"Punktet er et sadelpunkt\")\n",
    "    elif D > 0 and A > 0:\n",
    "        print(\"Punktet er et minimum\")\n",
    "    elif D > 0 and A < 0:\n",
    "        print(\"Punktet er et maksimum\")\n",
    "    else:\n",
    "        print(\"ABC-testen gav ikke et entydigt resultat\")\n",
    "    print()\n",
    "\n"
   ]
  },
  {
   "cell_type": "markdown",
   "metadata": {},
   "source": [
    "### Karakteristisk polynomium"
   ]
  },
  {
   "cell_type": "code",
   "execution_count": 23,
   "metadata": {},
   "outputs": [
    {
     "name": "stdout",
     "output_type": "stream",
     "text": [
      "Matricen er:\n"
     ]
    },
    {
     "data": {
      "image/png": "[encoded data removed]",
      "text/latex": [
       "$\\displaystyle \\left[\\begin{matrix}1 & -2 & -2\\\\-2 & 1 & -2\\\\-2 & -2 & 1\\end{matrix}\\right]$"
      ],
      "text/plain": [
       "⎡1   -2  -2⎤\n",
       "⎢          ⎥\n",
       "⎢-2  1   -2⎥\n",
       "⎢          ⎥\n",
       "⎣-2  -2  1 ⎦"
      ]
     },
     "metadata": {},
     "output_type": "display_data"
    },
    {
     "name": "stdout",
     "output_type": "stream",
     "text": [
      "Det karakteristiske polynomium er:\n"
     ]
    },
    {
     "data": {
      "image/png": "[encoded data removed]",
      "text/latex": [
       "$\\displaystyle \\operatorname{PurePoly}{\\left( x^{3} - 3 x^{2} - 9 x + 27, x, domain=\\mathbb{Z} \\right)}$"
      ],
      "text/plain": [
       "PurePoly(x**3 - 3*x**2 - 9*x + 27, x, domain='ZZ')"
      ]
     },
     "metadata": {},
     "output_type": "display_data"
    },
    {
     "name": "stdout",
     "output_type": "stream",
     "text": [
      "Egenværdierne er:\n"
     ]
    },
    {
     "data": {
      "image/png": "[encoded data removed]",
      "text/latex": [
       "$\\displaystyle \\left[ -3, \\  3\\right]$"
      ],
      "text/plain": [
       "[-3, 3]"
      ]
     },
     "metadata": {},
     "output_type": "display_data"
    }
   ],
   "source": [
    "import sympy as sp\n",
    "from sympy.abc import x, y\n",
    "from sympy import Matrix\n",
    "\n",
    "sp.init_printing()\n",
    "\n",
    "# Definer matricen her\n",
    "A = Matrix([[1, -2, -2], [-2, 1, -2], [-2, -2, 1]])\n",
    "\n",
    "print(\"Matricen er:\")\n",
    "display(A)\n",
    "\n",
    "# I Python er lambda et reserveret symbol, så vi bruger x i stedet\n",
    "charpol = A.charpoly(x)\n",
    "\n",
    "print(\"Det karakteristiske polynomium er:\")\n",
    "display(charpol)\n",
    "\n",
    "# Udregn egenværdierne\n",
    "eigs = sp.solve(charpol, x)\n",
    "\n",
    "print(\"Egenværdierne er:\")\n",
    "display(eigs)\n",
    "\n"
   ]
  },
  {
   "cell_type": "markdown",
   "metadata": {},
   "source": [
    "### Find rødder af polynomium"
   ]
  },
  {
   "cell_type": "code",
   "execution_count": 17,
   "metadata": {},
   "outputs": [
    {
     "name": "stdout",
     "output_type": "stream",
     "text": [
      "Polynomiet er:\n"
     ]
    },
    {
     "data": {
      "text/latex": [
       "$\\displaystyle x^{2} - 0.75 x + 0.125$"
      ],
      "text/plain": [
       "x**2 - 0.75*x + 0.125"
      ]
     },
     "metadata": {},
     "output_type": "display_data"
    },
    {
     "name": "stdout",
     "output_type": "stream",
     "text": [
      "Polynomiet faktoriseret er:\n"
     ]
    },
    {
     "data": {
      "text/latex": [
       "$\\displaystyle 1.0 \\cdot \\left(1.0 x - 0.5\\right) \\left(1.0 x - 0.25\\right)$"
      ],
      "text/plain": [
       "1.0*(1.0*x - 0.5)*(1.0*x - 0.25)"
      ]
     },
     "metadata": {},
     "output_type": "display_data"
    },
    {
     "name": "stdout",
     "output_type": "stream",
     "text": [
      "Polynomiet omskrevet er:\n"
     ]
    },
    {
     "data": {
      "text/latex": [
       "$\\displaystyle x^{2} - 0.75 x + 0.125$"
      ],
      "text/plain": [
       "x**2 - 0.75*x + 0.125"
      ]
     },
     "metadata": {},
     "output_type": "display_data"
    },
    {
     "name": "stdout",
     "output_type": "stream",
     "text": [
      "Polynomiet har rødderne (med multiplicitet):\n"
     ]
    },
    {
     "data": {
      "text/plain": [
       "[0.250000000000000, 0.500000000000000]"
      ]
     },
     "metadata": {},
     "output_type": "display_data"
    },
    {
     "data": {
      "text/latex": [
       "$\\displaystyle 9$"
      ],
      "text/plain": [
       "9"
      ]
     },
     "execution_count": 17,
     "metadata": {},
     "output_type": "execute_result"
    }
   ],
   "source": [
    "import sympy as sp\n",
    "from sympy.abc import x, y\n",
    "\n",
    "# Definer polynomiet her\n",
    "p = x**2 - 6/8 * x + 1/8\n",
    "\n",
    "print(\"Polynomiet er:\")\n",
    "display(p)\n",
    "\n",
    "print(\"Polynomiet faktoriseret er:\")\n",
    "display(sp.factor(p))\n",
    "\n",
    "print(\"Polynomiet omskrevet er:\")\n",
    "display(sp.expand(p))\n",
    "\n",
    "print(\"Polynomiet har rødderne (med multiplicitet):\")\n",
    "display(sp.roots(p, multiple=True))\n",
    "\n",
    "sp.sqrt(81)\n"
   ]
  },
  {
   "cell_type": "markdown",
   "metadata": {},
   "source": [
    "### Differentiering"
   ]
  },
  {
   "cell_type": "code",
   "execution_count": 11,
   "metadata": {},
   "outputs": [
    {
     "data": {
      "text/latex": [
       "$\\displaystyle \\sqrt{x}$"
      ],
      "text/plain": [
       "sqrt(x)"
      ]
     },
     "metadata": {},
     "output_type": "display_data"
    },
    {
     "data": {
      "text/plain": [
       "0.25"
      ]
     },
     "execution_count": 11,
     "metadata": {},
     "output_type": "execute_result"
    }
   ],
   "source": [
    "import sympy as sp\n",
    "from sympy.abc import x, a, b\n",
    "import numpy as np\n",
    "\n",
    "expr = sp.sqrt(x)\n",
    "\n",
    "display(expr)\n",
    "\n",
    "sp.diff(expr, x)\n",
    "\n",
    "(6-2)/16\n"
   ]
  },
  {
   "cell_type": "markdown",
   "metadata": {},
   "source": [
    "### Integration"
   ]
  },
  {
   "cell_type": "code",
   "execution_count": 3,
   "metadata": {},
   "outputs": [
    {
     "data": {
      "image/png": "[encoded data removed]",
      "text/latex": [
       "$\\displaystyle \\frac{1}{x^{3}}$"
      ],
      "text/plain": [
       "1 \n",
       "──\n",
       " 3\n",
       "x "
      ]
     },
     "metadata": {},
     "output_type": "display_data"
    },
    {
     "data": {
      "image/png": "[encoded data removed]",
      "text/latex": [
       "$\\displaystyle - \\frac{1}{2 x^{2}}$"
      ],
      "text/plain": [
       "-1  \n",
       "────\n",
       "   2\n",
       "2⋅x "
      ]
     },
     "execution_count": 3,
     "metadata": {},
     "output_type": "execute_result"
    }
   ],
   "source": [
    "import sympy as sp\n",
    "from sympy.abc import x, y\n",
    "import numpy as np\n",
    "\n",
    "expr = x**(-3)\n",
    "\n",
    "display(expr)\n",
    "\n",
    "sp.integrate(expr, x)\n",
    "\n"
   ]
  },
  {
   "cell_type": "markdown",
   "metadata": {},
   "source": [
    "### Differentialligninger"
   ]
  },
  {
   "cell_type": "code",
   "execution_count": 2,
   "metadata": {},
   "outputs": [
    {
     "data": {
      "image/png": "[encoded data removed]",
      "text/latex": [
       "$\\displaystyle \\frac{d}{d x} y{\\left(x \\right)} = - y^{3}{\\left(x \\right)}$"
      ],
      "text/plain": [
       "d            3   \n",
       "──(y(x)) = -y (x)\n",
       "dx               "
      ]
     },
     "metadata": {},
     "output_type": "display_data"
    },
    {
     "data": {
      "image/png": "[encoded data removed]",
      "text/latex": [
       "$\\displaystyle \\left[ y{\\left(x \\right)} = - \\frac{\\sqrt{2} \\sqrt{- \\frac{1}{C_{1} - x}}}{2}, \\  y{\\left(x \\right)} = \\frac{\\sqrt{2} \\sqrt{- \\frac{1}{C_{1} - x}}}{2}\\right]$"
      ],
      "text/plain": [
       "⎡               ________                 ________⎤\n",
       "⎢              ╱  -1                    ╱  -1    ⎥\n",
       "⎢       -√2⋅  ╱  ──────           √2⋅  ╱  ────── ⎥\n",
       "⎢           ╲╱   C₁ - x              ╲╱   C₁ - x ⎥\n",
       "⎢y(x) = ─────────────────, y(x) = ───────────────⎥\n",
       "⎣               2                        2       ⎦"
      ]
     },
     "execution_count": 2,
     "metadata": {},
     "output_type": "execute_result"
    }
   ],
   "source": [
    "import sympy as sp\n",
    "from sympy.abc import x\n",
    "import numpy as np\n",
    "\n",
    "sp.init_printing()\n",
    "y = sp.Function('y')(x)\n",
    "dydx = y.diff(x)\n",
    "expr = sp.Eq(dydx - sp.sqrt(x)*y, sp.sqrt(x))\n",
    "expr = sp.Eq(dydx, -y**3)\n",
    "\n",
    "\n",
    "display(expr)\n",
    "\n",
    "sp.dsolve(expr)\n",
    "\n",
    "\n"
   ]
  }
 ],
 "metadata": {
  "kernelspec": {
   "display_name": "base",
   "language": "python",
   "name": "python3"
  },
  "language_info": {
   "codemirror_mode": {
    "name": "ipython",
    "version": 3
   },
   "file_extension": ".py",
   "mimetype": "text/x-python",
   "name": "python",
   "nbconvert_exporter": "python",
   "pygments_lexer": "ipython3",
   "version": "3.11.4"
  }
 },
 "nbformat": 4,
 "nbformat_minor": 2
}
