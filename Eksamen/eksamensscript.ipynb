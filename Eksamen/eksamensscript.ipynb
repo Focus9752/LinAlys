{
 "cells": [
  {
   "cell_type": "markdown",
   "metadata": {},
   "source": [
    "### Stationære punkter for fkt. af to variable"
   ]
  },
  {
   "cell_type": "code",
   "execution_count": null,
   "metadata": {},
   "outputs": [],
   "source": [
    "import sympy as sp\n",
    "from sympy.abc import x, y\n",
    "from sympy.matrices import hessian\n",
    "\n",
    "sp.init_printing()\n",
    "\n",
    "# Definer funktionen her\n",
    "f = sp.sin(x)**2 + sp.cos(y)**2\n",
    "\n",
    "display(f)\n",
    "\n",
    "# Udregning af gradienten\n",
    "grad = sp.derive_by_array(f, (x, y))\n",
    "\n",
    "print(\"Gradienten er:\")\n",
    "display(grad)\n",
    "\n",
    "# Udregning af Hesse-matricen\n",
    "H = hessian(f, [x, y])\n",
    "\n",
    "print(\"Hesse-matricen er:\")\n",
    "display(H)\n",
    "\n",
    "# Udregning af kritiske punkter\n",
    "solutions = sp.solve(grad, dict=True)\n",
    "\n",
    "print(\"Kritiske punkter er:\")\n",
    "display(solutions)\n",
    "\n",
    "\n",
    "\n",
    "# Udregning af de kritiske punkters stabilitet\n",
    "for sol in solutions:\n",
    "\n",
    "    # Indsæt x- og y-værdierne i hessematricen\n",
    "    H_eval = H.subs(x, sol[x]).subs(y, sol[y])\n",
    "\n",
    "    # Udregn A og D\n",
    "    D = sp.det(H_eval)\n",
    "    A = H_eval[0, 0]\n",
    "\n",
    "    print()\n",
    "    print(\"Punktet\")\n",
    "    display(sol)\n",
    "    print(\"har A = {} og D = {}\".format(A, D))\n",
    "\n",
    "    # Tjek om det er et minimum, maksimum eller sadelpunkt\n",
    "    if D < 0:\n",
    "        print(\"Punktet er et sadelpunkt\")\n",
    "    elif D > 0 and A > 0:\n",
    "        print(\"Punktet er et minimum\")\n",
    "    elif D > 0 and A < 0:\n",
    "        print(\"Punktet er et maksimum\")\n",
    "    else:\n",
    "        print(\"ABC-testen gav ikke et entydigt resultat\")\n",
    "    print()\n",
    "\n"
   ]
  },
  {
   "cell_type": "markdown",
   "metadata": {},
   "source": [
    "### Karakteristisk polynomium"
   ]
  },
  {
   "cell_type": "code",
   "execution_count": 23,
   "metadata": {},
   "outputs": [
    {
     "name": "stdout",
     "output_type": "stream",
     "text": [
      "Matricen er:\n"
     ]
    },
    {
     "data": {
      "image/png": "[encoded data removed]",
      "text/latex": [
       "$\\displaystyle \\left[\\begin{matrix}1 & -2 & -2\\\\-2 & 1 & -2\\\\-2 & -2 & 1\\end{matrix}\\right]$"
      ],
      "text/plain": [
       "⎡1   -2  -2⎤\n",
       "⎢          ⎥\n",
       "⎢-2  1   -2⎥\n",
       "⎢          ⎥\n",
       "⎣-2  -2  1 ⎦"
      ]
     },
     "metadata": {},
     "output_type": "display_data"
    },
    {
     "name": "stdout",
     "output_type": "stream",
     "text": [
      "Det karakteristiske polynomium er:\n"
     ]
    },
    {
     "data": {
      "image/png": "[encoded data removed]",
      "text/latex": [
       "$\\displaystyle \\operatorname{PurePoly}{\\left( x^{3} - 3 x^{2} - 9 x + 27, x, domain=\\mathbb{Z} \\right)}$"
      ],
      "text/plain": [
       "PurePoly(x**3 - 3*x**2 - 9*x + 27, x, domain='ZZ')"
      ]
     },
     "metadata": {},
     "output_type": "display_data"
    },
    {
     "name": "stdout",
     "output_type": "stream",
     "text": [
      "Egenværdierne er:\n"
     ]
    }
   ],
   "source": [
    "import sympy as sp\n",
    "from sympy.abc import x, y\n",
    "from sympy import Matrix\n",
    "\n",
    "sp.init_printing()\n",
    "\n",
    "# Definer matricen her\n",
    "A = Matrix([[1, -2, -2], [-2, 1, -2], [-2, -2, 1]])\n",
    "\n",
    "print(\"Matricen er:\")\n",
    "display(A)\n",
    "\n",
    "# I Python er lambda et reserveret symbol, så vi bruger x i stedet\n",
    "charpol = A.charpoly(x)\n",
    "\n",
    "print(\"Det karakteristiske polynomium er:\")\n",
    "display(charpol)\n",
    "\n",
    "# Udregn egenværdierne\n",
    "eigs = sp.solve(charpol, x)\n",
    "\n",
    "print(\"Egenværdierne er:\")\n",
    "display(eigs)\n",
    "\n"
   ]
  },
  {
   "cell_type": "markdown",
   "metadata": {},
   "source": [
    "### Find rødder af polynomium"
   ]
  },
  {
   "cell_type": "code",
   "execution_count": 16,
   "metadata": {},
   "outputs": [
    {
     "name": "stdout",
     "output_type": "stream",
     "text": [
      "Polynomiet er:\n"
     ]
    },
    {
     "data": {
      "image/png": "[encoded data removed]",
      "text/latex": [
       "$\\displaystyle x^{3} - 3 x^{2} - 9 x + 27$"
      ],
      "text/plain": [
       " 3      2           \n",
       "x  - 3⋅x  - 9⋅x + 27"
      ]
     },
     "metadata": {},
     "output_type": "display_data"
    },
    {
     "name": "stdout",
     "output_type": "stream",
     "text": [
      "Polynomiet faktoriseret er:\n"
     ]
    },
    {
     "data": {
      "image/png": "[encoded data removed]",
      "text/latex": [
       "$\\displaystyle \\left(x - 3\\right)^{2} \\left(x + 3\\right)$"
      ],
      "text/plain": [
       "       2        \n",
       "(x - 3) ⋅(x + 3)"
      ]
     },
     "metadata": {},
     "output_type": "display_data"
    },
    {
     "name": "stdout",
     "output_type": "stream",
     "text": [
      "Polynomiet omskrevet er:\n"
     ]
    },
    {
     "data": {
      "image/png": "[encoded data removed]",
      "text/latex": [
       "$\\displaystyle x^{3} - 3 x^{2} - 9 x + 27$"
      ],
      "text/plain": [
       " 3      2           \n",
       "x  - 3⋅x  - 9⋅x + 27"
      ]
     },
     "metadata": {},
     "output_type": "display_data"
    },
    {
     "name": "stdout",
     "output_type": "stream",
     "text": [
      "Polynomiet har rødderne (med multiplicitet):\n"
     ]
    },
    {
     "data": {
      "image/png": "[encoded data removed]",
      "text/latex": [
       "$\\displaystyle \\left[ -3, \\  3, \\  3\\right]$"
      ],
      "text/plain": [
       "[-3, 3, 3]"
      ]
     },
     "metadata": {},
     "output_type": "display_data"
    }
   ],
   "source": [
    "import sympy as sp\n",
    "from sympy.abc import x, y\n",
    "\n",
    "# Definer polynomiet her\n",
    "p = x**3 -3*x**2 +3*x -1 -12*x +12 +16\n",
    "\n",
    "print(\"Polynomiet er:\")\n",
    "display(p)\n",
    "\n",
    "print(\"Polynomiet faktoriseret er:\")\n",
    "display(sp.factor(p))\n",
    "\n",
    "print(\"Polynomiet omskrevet er:\")\n",
    "display(sp.expand(p))\n",
    "\n",
    "print(\"Polynomiet har rødderne (med multiplicitet):\")\n",
    "display(sp.roots(p, multiple=True))\n"
   ]
  },
  {
   "cell_type": "markdown",
   "metadata": {},
   "source": [
    "### Diverse"
   ]
  },
  {
   "cell_type": "code",
   "execution_count": 11,
   "metadata": {},
   "outputs": [
    {
     "data": {
      "image/png": "[encoded data removed]",
      "text/latex": [
       "$\\displaystyle \\left[ 1, \\  1, \\  1\\right]$"
      ],
      "text/plain": [
       "[1, 1, 1]"
      ]
     },
     "execution_count": 11,
     "metadata": {},
     "output_type": "execute_result"
    }
   ],
   "source": [
    "import sympy as sp\n",
    "from sympy.abc import x, y\n",
    "\n",
    "sp.init_printing()\n",
    "\n",
    "sp.expand((x - 1)**3)\n",
    "\n",
    "\n"
   ]
  }
 ],
 "metadata": {
  "kernelspec": {
   "display_name": "base",
   "language": "python",
   "name": "python3"
  },
  "language_info": {
   "codemirror_mode": {
    "name": "ipython",
    "version": 3
   },
   "file_extension": ".py",
   "mimetype": "text/x-python",
   "name": "python",
   "nbconvert_exporter": "python",
   "pygments_lexer": "ipython3",
   "version": "3.11.4"
  }
 },
 "nbformat": 4,
 "nbformat_minor": 2
}
