{
 "cells": [
  {
   "cell_type": "markdown",
   "metadata": {},
   "source": [
    "### Stationære punkter for fkt. af to variable"
   ]
  },
  {
   "cell_type": "code",
   "execution_count": 1,
   "metadata": {},
   "outputs": [
    {
     "data": {
      "image/png": "[encoded data removed]",
      "text/latex": [
       "$\\displaystyle \\sin^{2}{\\left(x \\right)} + \\cos^{2}{\\left(y \\right)}$"
      ],
      "text/plain": [
       "   2         2   \n",
       "sin (x) + cos (y)"
      ]
     },
     "metadata": {},
     "output_type": "display_data"
    },
    {
     "name": "stdout",
     "output_type": "stream",
     "text": [
      "Gradienten er:\n"
     ]
    },
    {
     "data": {
      "image/png": "[encoded data removed]",
      "text/latex": [
       "$\\displaystyle \\left[\\begin{matrix}2 \\sin{\\left(x \\right)} \\cos{\\left(x \\right)} & - 2 \\sin{\\left(y \\right)} \\cos{\\left(y \\right)}\\end{matrix}\\right]$"
      ],
      "text/plain": [
       "[2⋅sin(x)⋅cos(x)  -2⋅sin(y)⋅cos(y)]"
      ]
     },
     "metadata": {},
     "output_type": "display_data"
    },
    {
     "name": "stdout",
     "output_type": "stream",
     "text": [
      "Hesse-matricen er:\n"
     ]
    },
    {
     "data": {
      "image/png": "[encoded data removed]",
      "text/latex": [
       "$\\displaystyle \\left[\\begin{matrix}- 2 \\sin^{2}{\\left(x \\right)} + 2 \\cos^{2}{\\left(x \\right)} & 0\\\\0 & 2 \\sin^{2}{\\left(y \\right)} - 2 \\cos^{2}{\\left(y \\right)}\\end{matrix}\\right]$"
      ],
      "text/plain": [
       "⎡       2           2                          ⎤\n",
       "⎢- 2⋅sin (x) + 2⋅cos (x)            0          ⎥\n",
       "⎢                                              ⎥\n",
       "⎢                              2           2   ⎥\n",
       "⎣           0             2⋅sin (y) - 2⋅cos (y)⎦"
      ]
     },
     "metadata": {},
     "output_type": "display_data"
    },
    {
     "name": "stdout",
     "output_type": "stream",
     "text": [
      "Kritiske punkter er:\n"
     ]
    },
    {
     "data": {
      "image/png": "[encoded data removed]",
      "text/latex": [
       "$\\displaystyle \\left[ \\left\\{ x : 0, \\  y : 0\\right\\}, \\  \\left\\{ x : 0, \\  y : \\frac{\\pi}{2}\\right\\}, \\  \\left\\{ x : 0, \\  y : \\pi\\right\\}, \\  \\left\\{ x : 0, \\  y : \\frac{3 \\pi}{2}\\right\\}, \\  \\left\\{ x : \\frac{\\pi}{2}, \\  y : 0\\right\\}, \\  \\left\\{ x : \\frac{\\pi}{2}, \\  y : \\frac{\\pi}{2}\\right\\}, \\  \\left\\{ x : \\frac{\\pi}{2}, \\  y : \\pi\\right\\}, \\  \\left\\{ x : \\frac{\\pi}{2}, \\  y : \\frac{3 \\pi}{2}\\right\\}, \\  \\left\\{ x : \\pi, \\  y : 0\\right\\}, \\  \\left\\{ x : \\pi, \\  y : \\frac{\\pi}{2}\\right\\}, \\  \\left\\{ x : \\pi, \\  y : \\pi\\right\\}, \\  \\left\\{ x : \\pi, \\  y : \\frac{3 \\pi}{2}\\right\\}, \\  \\left\\{ x : \\frac{3 \\pi}{2}, \\  y : 0\\right\\}, \\  \\left\\{ x : \\frac{3 \\pi}{2}, \\  y : \\frac{\\pi}{2}\\right\\}, \\  \\left\\{ x : \\frac{3 \\pi}{2}, \\  y : \\pi\\right\\}, \\  \\left\\{ x : \\frac{3 \\pi}{2}, \\  y : \\frac{3 \\pi}{2}\\right\\}\\right]$"
      ],
      "text/plain": [
       "⎡              ⎧         π⎫                ⎧         3⋅π⎫  ⎧   π      ⎫  ⎧   π\n",
       "⎢{x: 0, y: 0}, ⎨x: 0, y: ─⎬, {x: 0, y: π}, ⎨x: 0, y: ───⎬, ⎨x: ─, y: 0⎬, ⎨x: ─\n",
       "⎣              ⎩         2⎭                ⎩          2 ⎭  ⎩   2      ⎭  ⎩   2\n",
       "\n",
       "     π⎫  ⎧   π      ⎫  ⎧   π     3⋅π⎫                ⎧         π⎫             \n",
       ", y: ─⎬, ⎨x: ─, y: π⎬, ⎨x: ─, y: ───⎬, {x: π, y: 0}, ⎨x: π, y: ─⎬, {x: π, y: π\n",
       "     2⎭  ⎩   2      ⎭  ⎩   2      2 ⎭                ⎩         2⎭             \n",
       "\n",
       "   ⎧         3⋅π⎫  ⎧   3⋅π      ⎫  ⎧   3⋅π     π⎫  ⎧   3⋅π      ⎫  ⎧   3⋅π    \n",
       "}, ⎨x: π, y: ───⎬, ⎨x: ───, y: 0⎬, ⎨x: ───, y: ─⎬, ⎨x: ───, y: π⎬, ⎨x: ───, y:\n",
       "   ⎩          2 ⎭  ⎩    2       ⎭  ⎩    2      2⎭  ⎩    2       ⎭  ⎩    2     \n",
       "\n",
       " 3⋅π⎫⎤\n",
       " ───⎬⎥\n",
       "  2 ⎭⎦"
      ]
     },
     "metadata": {},
     "output_type": "display_data"
    },
    {
     "name": "stdout",
     "output_type": "stream",
     "text": [
      "\n",
      "Punktet\n"
     ]
    },
    {
     "data": {
      "image/png": "[encoded data removed]",
      "text/latex": [
       "$\\displaystyle \\left\\{ x : 0, \\  y : 0\\right\\}$"
      ],
      "text/plain": [
       "{x: 0, y: 0}"
      ]
     },
     "metadata": {},
     "output_type": "display_data"
    },
    {
     "name": "stdout",
     "output_type": "stream",
     "text": [
      "har A = 2 og D = -4\n",
      "Punktet er et sadelpunkt\n",
      "\n",
      "\n",
      "Punktet\n"
     ]
    },
    {
     "data": {
      "image/png": "[encoded data removed]",
      "text/latex": [
       "$\\displaystyle \\left\\{ x : 0, \\  y : \\frac{\\pi}{2}\\right\\}$"
      ],
      "text/plain": [
       "⎧         π⎫\n",
       "⎨x: 0, y: ─⎬\n",
       "⎩         2⎭"
      ]
     },
     "metadata": {},
     "output_type": "display_data"
    },
    {
     "name": "stdout",
     "output_type": "stream",
     "text": [
      "har A = 2 og D = 4\n",
      "Punktet er et minimum\n",
      "\n",
      "\n",
      "Punktet\n"
     ]
    },
    {
     "data": {
      "image/png": "[encoded data removed]",
      "text/latex": [
       "$\\displaystyle \\left\\{ x : 0, \\  y : \\pi\\right\\}$"
      ],
      "text/plain": [
       "{x: 0, y: π}"
      ]
     },
     "metadata": {},
     "output_type": "display_data"
    },
    {
     "name": "stdout",
     "output_type": "stream",
     "text": [
      "har A = 2 og D = -4\n",
      "Punktet er et sadelpunkt\n",
      "\n",
      "\n",
      "Punktet\n"
     ]
    },
    {
     "data": {
      "image/png": "[encoded data removed]",
      "text/latex": [
       "$\\displaystyle \\left\\{ x : 0, \\  y : \\frac{3 \\pi}{2}\\right\\}$"
      ],
      "text/plain": [
       "⎧         3⋅π⎫\n",
       "⎨x: 0, y: ───⎬\n",
       "⎩          2 ⎭"
      ]
     },
     "metadata": {},
     "output_type": "display_data"
    },
    {
     "name": "stdout",
     "output_type": "stream",
     "text": [
      "har A = 2 og D = 4\n",
      "Punktet er et minimum\n",
      "\n",
      "\n",
      "Punktet\n"
     ]
    },
    {
     "data": {
      "image/png": "[encoded data removed]",
      "text/latex": [
       "$\\displaystyle \\left\\{ x : \\frac{\\pi}{2}, \\  y : 0\\right\\}$"
      ],
      "text/plain": [
       "⎧   π      ⎫\n",
       "⎨x: ─, y: 0⎬\n",
       "⎩   2      ⎭"
      ]
     },
     "metadata": {},
     "output_type": "display_data"
    },
    {
     "name": "stdout",
     "output_type": "stream",
     "text": [
      "har A = -2 og D = 4\n",
      "Punktet er et maksimum\n",
      "\n",
      "\n",
      "Punktet\n"
     ]
    },
    {
     "data": {
      "image/png": "[encoded data removed]",
      "text/latex": [
       "$\\displaystyle \\left\\{ x : \\frac{\\pi}{2}, \\  y : \\frac{\\pi}{2}\\right\\}$"
      ],
      "text/plain": [
       "⎧   π     π⎫\n",
       "⎨x: ─, y: ─⎬\n",
       "⎩   2     2⎭"
      ]
     },
     "metadata": {},
     "output_type": "display_data"
    },
    {
     "name": "stdout",
     "output_type": "stream",
     "text": [
      "har A = -2 og D = -4\n",
      "Punktet er et sadelpunkt\n",
      "\n",
      "\n",
      "Punktet\n"
     ]
    },
    {
     "data": {
      "image/png": "[encoded data removed]",
      "text/latex": [
       "$\\displaystyle \\left\\{ x : \\frac{\\pi}{2}, \\  y : \\pi\\right\\}$"
      ],
      "text/plain": [
       "⎧   π      ⎫\n",
       "⎨x: ─, y: π⎬\n",
       "⎩   2      ⎭"
      ]
     },
     "metadata": {},
     "output_type": "display_data"
    },
    {
     "name": "stdout",
     "output_type": "stream",
     "text": [
      "har A = -2 og D = 4\n",
      "Punktet er et maksimum\n",
      "\n",
      "\n",
      "Punktet\n"
     ]
    },
    {
     "data": {
      "image/png": "[encoded data removed]",
      "text/latex": [
       "$\\displaystyle \\left\\{ x : \\frac{\\pi}{2}, \\  y : \\frac{3 \\pi}{2}\\right\\}$"
      ],
      "text/plain": [
       "⎧   π     3⋅π⎫\n",
       "⎨x: ─, y: ───⎬\n",
       "⎩   2      2 ⎭"
      ]
     },
     "metadata": {},
     "output_type": "display_data"
    },
    {
     "name": "stdout",
     "output_type": "stream",
     "text": [
      "har A = -2 og D = -4\n",
      "Punktet er et sadelpunkt\n",
      "\n",
      "\n",
      "Punktet\n"
     ]
    },
    {
     "data": {
      "image/png": "[encoded data removed]",
      "text/latex": [
       "$\\displaystyle \\left\\{ x : \\pi, \\  y : 0\\right\\}$"
      ],
      "text/plain": [
       "{x: π, y: 0}"
      ]
     },
     "metadata": {},
     "output_type": "display_data"
    },
    {
     "name": "stdout",
     "output_type": "stream",
     "text": [
      "har A = 2 og D = -4\n",
      "Punktet er et sadelpunkt\n",
      "\n",
      "\n",
      "Punktet\n"
     ]
    },
    {
     "data": {
      "image/png": "[encoded data removed]",
      "text/latex": [
       "$\\displaystyle \\left\\{ x : \\pi, \\  y : \\frac{\\pi}{2}\\right\\}$"
      ],
      "text/plain": [
       "⎧         π⎫\n",
       "⎨x: π, y: ─⎬\n",
       "⎩         2⎭"
      ]
     },
     "metadata": {},
     "output_type": "display_data"
    },
    {
     "name": "stdout",
     "output_type": "stream",
     "text": [
      "har A = 2 og D = 4\n",
      "Punktet er et minimum\n",
      "\n",
      "\n",
      "Punktet\n"
     ]
    },
    {
     "data": {
      "image/png": "[encoded data removed]",
      "text/latex": [
       "$\\displaystyle \\left\\{ x : \\pi, \\  y : \\pi\\right\\}$"
      ],
      "text/plain": [
       "{x: π, y: π}"
      ]
     },
     "metadata": {},
     "output_type": "display_data"
    },
    {
     "name": "stdout",
     "output_type": "stream",
     "text": [
      "har A = 2 og D = -4\n",
      "Punktet er et sadelpunkt\n",
      "\n",
      "\n",
      "Punktet\n"
     ]
    },
    {
     "data": {
      "image/png": "[encoded data removed]",
      "text/latex": [
       "$\\displaystyle \\left\\{ x : \\pi, \\  y : \\frac{3 \\pi}{2}\\right\\}$"
      ],
      "text/plain": [
       "⎧         3⋅π⎫\n",
       "⎨x: π, y: ───⎬\n",
       "⎩          2 ⎭"
      ]
     },
     "metadata": {},
     "output_type": "display_data"
    },
    {
     "name": "stdout",
     "output_type": "stream",
     "text": [
      "har A = 2 og D = 4\n",
      "Punktet er et minimum\n",
      "\n",
      "\n",
      "Punktet\n"
     ]
    },
    {
     "data": {
      "image/png": "[encoded data removed]",
      "text/latex": [
       "$\\displaystyle \\left\\{ x : \\frac{3 \\pi}{2}, \\  y : 0\\right\\}$"
      ],
      "text/plain": [
       "⎧   3⋅π      ⎫\n",
       "⎨x: ───, y: 0⎬\n",
       "⎩    2       ⎭"
      ]
     },
     "metadata": {},
     "output_type": "display_data"
    },
    {
     "name": "stdout",
     "output_type": "stream",
     "text": [
      "har A = -2 og D = 4\n",
      "Punktet er et maksimum\n",
      "\n",
      "\n",
      "Punktet\n"
     ]
    },
    {
     "data": {
      "image/png": "[encoded data removed]",
      "text/latex": [
       "$\\displaystyle \\left\\{ x : \\frac{3 \\pi}{2}, \\  y : \\frac{\\pi}{2}\\right\\}$"
      ],
      "text/plain": [
       "⎧   3⋅π     π⎫\n",
       "⎨x: ───, y: ─⎬\n",
       "⎩    2      2⎭"
      ]
     },
     "metadata": {},
     "output_type": "display_data"
    },
    {
     "name": "stdout",
     "output_type": "stream",
     "text": [
      "har A = -2 og D = -4\n",
      "Punktet er et sadelpunkt\n",
      "\n",
      "\n",
      "Punktet\n"
     ]
    },
    {
     "data": {
      "image/png": "[encoded data removed]",
      "text/latex": [
       "$\\displaystyle \\left\\{ x : \\frac{3 \\pi}{2}, \\  y : \\pi\\right\\}$"
      ],
      "text/plain": [
       "⎧   3⋅π      ⎫\n",
       "⎨x: ───, y: π⎬\n",
       "⎩    2       ⎭"
      ]
     },
     "metadata": {},
     "output_type": "display_data"
    },
    {
     "name": "stdout",
     "output_type": "stream",
     "text": [
      "har A = -2 og D = 4\n",
      "Punktet er et maksimum\n",
      "\n",
      "\n",
      "Punktet\n"
     ]
    },
    {
     "data": {
      "image/png": "[encoded data removed]",
      "text/latex": [
       "$\\displaystyle \\left\\{ x : \\frac{3 \\pi}{2}, \\  y : \\frac{3 \\pi}{2}\\right\\}$"
      ],
      "text/plain": [
       "⎧   3⋅π     3⋅π⎫\n",
       "⎨x: ───, y: ───⎬\n",
       "⎩    2       2 ⎭"
      ]
     },
     "metadata": {},
     "output_type": "display_data"
    },
    {
     "name": "stdout",
     "output_type": "stream",
     "text": [
      "har A = -2 og D = -4\n",
      "Punktet er et sadelpunkt\n",
      "\n"
     ]
    }
   ],
   "source": [
    "import sympy as sp\n",
    "from sympy.abc import x, y\n",
    "from sympy.matrices import hessian\n",
    "\n",
    "sp.init_printing()\n",
    "\n",
    "# Definer funktionen her\n",
    "f = sp.sin(x)**2 + sp.cos(y)**2\n",
    "\n",
    "display(f)\n",
    "\n",
    "# Udregning af gradienten\n",
    "grad = sp.derive_by_array(f, (x, y))\n",
    "\n",
    "print(\"Gradienten er:\")\n",
    "display(grad)\n",
    "\n",
    "# Udregning af Hesse-matricen\n",
    "H = hessian(f, [x, y])\n",
    "\n",
    "print(\"Hesse-matricen er:\")\n",
    "display(H)\n",
    "\n",
    "# Udregning af kritiske punkter\n",
    "solutions = sp.solve(grad, dict=True)\n",
    "\n",
    "print(\"Kritiske punkter er:\")\n",
    "display(solutions)\n",
    "\n",
    "\n",
    "\n",
    "# Udregning af de kritiske punkters stabilitet\n",
    "for sol in solutions:\n",
    "\n",
    "    # Indsæt x- og y-værdierne i hessematricen\n",
    "    H_eval = H.subs(x, sol[x]).subs(y, sol[y])\n",
    "\n",
    "    # Udregn A og D\n",
    "    D = sp.det(H_eval)\n",
    "    A = H_eval[0, 0]\n",
    "\n",
    "    print()\n",
    "    print(\"Punktet\")\n",
    "    display(sol)\n",
    "    print(\"har A = {} og D = {}\".format(A, D))\n",
    "\n",
    "    # Tjek om det er et minimum, maksimum eller sadelpunkt\n",
    "    if D < 0:\n",
    "        print(\"Punktet er et sadelpunkt\")\n",
    "    elif D > 0 and A > 0:\n",
    "        print(\"Punktet er et minimum\")\n",
    "    elif D > 0 and A < 0:\n",
    "        print(\"Punktet er et maksimum\")\n",
    "    else:\n",
    "        print(\"ABC-testen gav ikke et entydigt resultat\")\n",
    "    print()\n",
    "\n"
   ]
  },
  {
   "cell_type": "markdown",
   "metadata": {},
   "source": [
    "### Karakteristisk polynomium"
   ]
  },
  {
   "cell_type": "code",
   "execution_count": 2,
   "metadata": {},
   "outputs": [
    {
     "name": "stdout",
     "output_type": "stream",
     "text": [
      "Matricen er:\n"
     ]
    },
    {
     "data": {
      "image/png": "[encoded data removed]",
      "text/latex": [
       "$\\displaystyle \\left[\\begin{matrix}1 & -2 & -2\\\\-2 & 1 & -2\\\\-2 & -2 & 1\\end{matrix}\\right]$"
      ],
      "text/plain": [
       "⎡1   -2  -2⎤\n",
       "⎢          ⎥\n",
       "⎢-2  1   -2⎥\n",
       "⎢          ⎥\n",
       "⎣-2  -2  1 ⎦"
      ]
     },
     "metadata": {},
     "output_type": "display_data"
    },
    {
     "name": "stdout",
     "output_type": "stream",
     "text": [
      "Det karakteristiske polynomium er:\n"
     ]
    },
    {
     "data": {
      "image/png": "[encoded data removed]",
      "text/latex": [
       "$\\displaystyle \\operatorname{PurePoly}{\\left( x^{3} - 3 x^{2} - 9 x + 27, x, domain=\\mathbb{Z} \\right)}$"
      ],
      "text/plain": [
       "PurePoly(x**3 - 3*x**2 - 9*x + 27, x, domain='ZZ')"
      ]
     },
     "metadata": {},
     "output_type": "display_data"
    },
    {
     "name": "stdout",
     "output_type": "stream",
     "text": [
      "Egenværdierne er:\n"
     ]
    },
    {
     "data": {
      "image/png": "[encoded data removed]",
      "text/latex": [
       "$\\displaystyle \\left[ -3, \\  3\\right]$"
      ],
      "text/plain": [
       "[-3, 3]"
      ]
     },
     "metadata": {},
     "output_type": "display_data"
    }
   ],
   "source": [
    "import sympy as sp\n",
    "from sympy.abc import x, y\n",
    "from sympy import Matrix\n",
    "\n",
    "sp.init_printing()\n",
    "\n",
    "# Definer matricen her\n",
    "A = Matrix([[1, -2, -2], [-2, 1, -2], [-2, -2, 1]])\n",
    "\n",
    "print(\"Matricen er:\")\n",
    "display(A)\n",
    "\n",
    "# I Python er lambda et reserveret symbol, så vi bruger x i stedet\n",
    "charpol = A.charpoly(x)\n",
    "\n",
    "print(\"Det karakteristiske polynomium er:\")\n",
    "display(charpol)\n",
    "\n",
    "# Udregn egenværdierne\n",
    "eigs = sp.solve(charpol, x)\n",
    "\n",
    "print(\"Egenværdierne er:\")\n",
    "display(eigs)\n",
    "\n"
   ]
  },
  {
   "cell_type": "markdown",
   "metadata": {},
   "source": [
    "### Find rødder af polynomium"
   ]
  },
  {
   "cell_type": "code",
   "execution_count": 3,
   "metadata": {},
   "outputs": [
    {
     "ename": "NameError",
     "evalue": "name 'X' is not defined",
     "output_type": "error",
     "traceback": [
      "\u001b[1;31m---------------------------------------------------------------------------\u001b[0m",
      "\u001b[1;31mNameError\u001b[0m                                 Traceback (most recent call last)",
      "Cell \u001b[1;32mIn[3], line 5\u001b[0m\n\u001b[0;32m      2\u001b[0m \u001b[38;5;28;01mfrom\u001b[39;00m \u001b[38;5;21;01msympy\u001b[39;00m\u001b[38;5;21;01m.\u001b[39;00m\u001b[38;5;21;01mabc\u001b[39;00m \u001b[38;5;28;01mimport\u001b[39;00m x, y\n\u001b[0;32m      4\u001b[0m \u001b[38;5;66;03m# Definer polynomiet her\u001b[39;00m\n\u001b[1;32m----> 5\u001b[0m p \u001b[38;5;241m=\u001b[39m X\u001b[38;5;241m*\u001b[39m\u001b[38;5;241m*\u001b[39m\u001b[38;5;241m2\u001b[39m \u001b[38;5;241m-\u001b[39m \u001b[38;5;241m3\u001b[39m\u001b[38;5;241m*\u001b[39mx \u001b[38;5;241m-\u001b[39m \u001b[38;5;241m4\u001b[39m\n\u001b[0;32m      7\u001b[0m \u001b[38;5;28mprint\u001b[39m(\u001b[38;5;124m\"\u001b[39m\u001b[38;5;124mPolynomiet er:\u001b[39m\u001b[38;5;124m\"\u001b[39m)\n\u001b[0;32m      8\u001b[0m display(p)\n",
      "\u001b[1;31mNameError\u001b[0m: name 'X' is not defined"
     ]
    }
   ],
   "source": [
    "import sympy as sp\n",
    "from sympy.abc import x, y\n",
    "\n",
    "# Definer polynomiet her\n",
    "p = X**2 - 3*x - 4\n",
    "\n",
    "print(\"Polynomiet er:\")\n",
    "display(p)\n",
    "\n",
    "print(\"Polynomiet faktoriseret er:\")\n",
    "display(sp.factor(p))\n",
    "\n",
    "print(\"Polynomiet omskrevet er:\")\n",
    "display(sp.expand(p))\n",
    "\n",
    "print(\"Polynomiet har rødderne (med multiplicitet):\")\n",
    "display(sp.roots(p, multiple=True))\n"
   ]
  },
  {
   "cell_type": "markdown",
   "metadata": {},
   "source": [
    "### Diverse"
   ]
  },
  {
   "cell_type": "code",
   "execution_count": null,
   "metadata": {},
   "outputs": [
    {
     "ename": "SyntaxError",
     "evalue": "cannot assign to expression here. Maybe you meant '==' instead of '='? (750515647.py, line 8)",
     "output_type": "error",
     "traceback": [
      "\u001b[1;36m  Cell \u001b[1;32mIn[2], line 8\u001b[1;36m\u001b[0m\n\u001b[1;33m    sp.solve(((x*t + L/sp.sqrt(1 - x**2) = ((x+y)/(1+x*y))*t)), x)\u001b[0m\n\u001b[1;37m               ^\u001b[0m\n\u001b[1;31mSyntaxError\u001b[0m\u001b[1;31m:\u001b[0m cannot assign to expression here. Maybe you meant '==' instead of '='?\n"
     ]
    }
   ],
   "source": [
    "import sympy as sp\n",
    "from sympy.abc import x, y, t, L\n",
    "\n",
    "sp.init_printing()\n",
    "\n",
    "sp.expand((x - 1)**3)\n",
    "\n",
    "expr = x*t + L/sp.sqrt(1 - x**2) = ((x+y)/(1+x*y))*t\n",
    "\n",
    "sp.solve()\n",
    "\n"
   ]
  }
 ],
 "metadata": {
  "kernelspec": {
   "display_name": "base",
   "language": "python",
   "name": "python3"
  },
  "language_info": {
   "codemirror_mode": {
    "name": "ipython",
    "version": 3
   },
   "file_extension": ".py",
   "mimetype": "text/x-python",
   "name": "python",
   "nbconvert_exporter": "python",
   "pygments_lexer": "ipython3",
   "version": "3.11.4"
  }
 },
 "nbformat": 4,
 "nbformat_minor": 2
}
