{
 "cells": [
  {
   "cell_type": "markdown",
   "metadata": {},
   "source": [
    "# SymPy Python Copy Pasta Kompendie"
   ]
  },
  {
   "cell_type": "markdown",
   "metadata": {},
   "source": [
    "### Regn i SymPy"
   ]
  },
  {
   "cell_type": "code",
   "execution_count": 4,
   "metadata": {},
   "outputs": [
    {
     "name": "stdout",
     "output_type": "stream",
     "text": [
      "x+1    =  x + 1\n",
      "2*x    =  2*x\n",
      "x/4    =  x/4\n",
      "x^4 =  x**4\n",
      "sin(x) =  sin(x)\n",
      "cos(x) =  cos(x)\n",
      "sqrt(x) =  sqrt(x)\n",
      "log(x) =  log(x)\n",
      "ln(x) =  log(x)\n",
      "e**x = exp(x) =  exp(x)\n"
     ]
    },
    {
     "data": {
      "text/latex": [
       "$\\displaystyle x^{-0.5}$"
      ],
      "text/plain": [
       "x**(-0.5)"
      ]
     },
     "metadata": {},
     "output_type": "display_data"
    }
   ],
   "source": [
    "import sympy as sp\n",
    "from sympy.abc import x\n",
    "\n",
    "x = 3.14 # pi\n",
    "print(\"x+1    = \", 1+x) # Vi kan plusse...\n",
    "print(\"2*x    = \", 2*x) # Og gange...\n",
    "print(\"x/4    = \", x/4) # Endda dividere  \n",
    "print(\"x^4 = \", x**4)   # og opløfte i potens\n",
    "print(\"sin(x) = \", sp.sin(x)) # Numpy indeholder blandt andet sinus og cosinus\n",
    "print(\"cos(x) = \", sp.cos(x)) # Og en masse andet.....\n",
    "print(\"sqrt(x) = \", sp.sqrt(x)) #kvadratrod\n",
    "print(\"log(x) = \", sp.log(x)) #den naturlige logaritme\n",
    "print(\"ln(x) = \", sp.ln(x)) #den naturlige logaritme\n",
    "print(\"e**x = exp(x) = \", sp.exp(x)) #exp er e^x, altså den naturlige eksponent"
   ]
  },
  {
   "cell_type": "markdown",
   "metadata": {},
   "source": [
    "## Basale Regneværktøjer i sympy"
   ]
  },
  {
   "cell_type": "markdown",
   "metadata": {},
   "source": [
    "**Simplify**"
   ]
  },
  {
   "cell_type": "code",
   "execution_count": 6,
   "metadata": {},
   "outputs": [
    {
     "data": {
      "text/latex": [
       "$\\displaystyle \\frac{x^{2} + 2 x + 1}{x + 1} = 0$"
      ],
      "text/plain": [
       "Eq((x**2 + 2*x + 1)/(x + 1), 0)"
      ]
     },
     "metadata": {},
     "output_type": "display_data"
    },
    {
     "data": {
      "text/latex": [
       "$\\displaystyle x = -1$"
      ],
      "text/plain": [
       "Eq(x, -1)"
      ]
     },
     "metadata": {},
     "output_type": "display_data"
    }
   ],
   "source": [
    "import sympy as sp\n",
    "from sympy.abc import x\n",
    "\n",
    "# Definer funktion (venstre side og højre side er separeret af komma)\n",
    "expression = sp.Eq((x**2 + 2*x + 1) / (x + 1), 0)\n",
    "\n",
    "simplified_expr = sp.simplify(expression)\n",
    "display(expression)\n",
    "display(simplified_expr)"
   ]
  },
  {
   "cell_type": "markdown",
   "metadata": {},
   "source": [
    "**Udtrykssubstitution**"
   ]
  },
  {
   "cell_type": "code",
   "execution_count": 209,
   "metadata": {},
   "outputs": [
    {
     "data": {
      "text/latex": [
       "$\\displaystyle y + 9 = 0$"
      ],
      "text/plain": [
       "Eq(y + 9, 0)"
      ]
     },
     "metadata": {},
     "output_type": "display_data"
    }
   ],
   "source": [
    "import sympy as sp\n",
    "from sympy.abc import x, y\n",
    "# Definer funktion (venstre side og højre side er separeret af komma)\n",
    "expression = sp.Eq(x**2 + y, 0)\n",
    "\n",
    "substituted_expr = expression.subs(x, 3)\n",
    "display(substituted_expr)"
   ]
  },
  {
   "cell_type": "markdown",
   "metadata": {},
   "source": [
    "**Ligningsløsning**"
   ]
  },
  {
   "cell_type": "code",
   "execution_count": 2,
   "metadata": {},
   "outputs": [
    {
     "data": {
      "text/plain": [
       "[-2.0/(2.0*c + 2.0*x + sin(x**2))]"
      ]
     },
     "metadata": {},
     "output_type": "display_data"
    }
   ],
   "source": [
    "import sympy as sp\n",
    "from sympy.abc import x, y, c\n",
    "# Definer funktion (venstre side og højre side er separeret af komma)\n",
    "equation = sp.Eq(-1/y, x+1/2 * sp.sin(x**2) + c)\n",
    "\n",
    "solutions = sp.solve(equation, y)\n",
    "display(solutions)"
   ]
  },
  {
   "cell_type": "markdown",
   "metadata": {},
   "source": [
    "**Rødderne af en funktion eller et karakteristisk polynom**"
   ]
  },
  {
   "cell_type": "code",
   "execution_count": 17,
   "metadata": {},
   "outputs": [
    {
     "name": "stdout",
     "output_type": "stream",
     "text": [
      "Hvis man ikke kan huske formlen\n"
     ]
    },
    {
     "data": {
      "text/latex": [
       "$\\displaystyle \\frac{- b + \\sqrt{- 4 a c + b^{2}}}{2 a}$"
      ],
      "text/plain": [
       "(-b + sqrt(-4*a*c + b**2))/(2*a)"
      ]
     },
     "metadata": {},
     "output_type": "display_data"
    },
    {
     "data": {
      "text/latex": [
       "$\\displaystyle \\frac{- b - \\sqrt{- 4 a c + b^{2}}}{2 a}$"
      ],
      "text/plain": [
       "(-b - sqrt(-4*a*c + b**2))/(2*a)"
      ]
     },
     "metadata": {},
     "output_type": "display_data"
    },
    {
     "name": "stdout",
     "output_type": "stream",
     "text": [
      "Funktionen er:\n"
     ]
    },
    {
     "data": {
      "text/latex": [
       "$\\displaystyle x^{2} - 0.666666666666667 x + 0.111111111111111 = 0$"
      ],
      "text/plain": [
       "Eq(x**2 - 0.666666666666667*x + 0.111111111111111, 0)"
      ]
     },
     "metadata": {},
     "output_type": "display_data"
    },
    {
     "name": "stdout",
     "output_type": "stream",
     "text": [
      "Rødderne er: [0.333333333333333]\n"
     ]
    }
   ],
   "source": [
    "import sympy as sp\n",
    "from sympy.abc import x, a, b, c, lamda\n",
    "\n",
    "# Definér kvadratrodsformlen +-\n",
    "print('Hvis man ikke kan huske formlen')\n",
    "kvadratrodsformel = (-b + sp.sqrt(b**2 - 4*a*c)) / (2*a)\n",
    "display(kvadratrodsformel)\n",
    "kvadratrodsformel = (-b - sp.sqrt(b**2 - 4*a*c)) / (2*a)\n",
    "display(kvadratrodsformel)\n",
    "\n",
    "# Definér funktionen. (venstre side og højre side er separeret af komma)\n",
    "funktion = sp.Eq(x**2 - (2/3)*x +(1/9), 0)\n",
    "print('Funktionen er:')\n",
    "display(funktion)\n",
    "\n",
    "# Find rødderne\n",
    "rødder = sp.solve(funktion, x)\n",
    "\n",
    "# Udskriv rødderne\n",
    "print(\"Rødderne er:\", rødder)\n",
    "\n"
   ]
  },
  {
   "cell_type": "markdown",
   "metadata": {},
   "source": [
    "## L'Hôpitals regel(TK 6.3.2)(ifølge eksamenssæt 2023 opg 5)"
   ]
  },
  {
   "cell_type": "code",
   "execution_count": 4,
   "metadata": {},
   "outputs": [
    {
     "name": "stdout",
     "output_type": "stream",
     "text": [
      "Original expressions:\n",
      "T:\n"
     ]
    },
    {
     "data": {
      "text/latex": [
       "$\\displaystyle \\sin{\\left(\\log{\\left(x \\right)} \\right)}$"
      ],
      "text/plain": [
       "sin(log(x))"
      ]
     },
     "metadata": {},
     "output_type": "display_data"
    },
    {
     "name": "stdout",
     "output_type": "stream",
     "text": [
      "N:\n"
     ]
    },
    {
     "data": {
      "text/latex": [
       "$\\displaystyle e^{2 x - 2} - 1$"
      ],
      "text/plain": [
       "exp(2*x - 2) - 1"
      ]
     },
     "metadata": {},
     "output_type": "display_data"
    },
    {
     "name": "stdout",
     "output_type": "stream",
     "text": [
      "Original expressions Check '0/0':\n",
      "When x->0 for T: 0\n",
      "When x->0 for N: 0\n",
      "When x->0 for T/N: nan\n",
      "\n",
      "First derivatives:\n",
      "T':\n"
     ]
    },
    {
     "data": {
      "text/latex": [
       "$\\displaystyle \\frac{\\cos{\\left(\\log{\\left(x \\right)} \\right)}}{x}$"
      ],
      "text/plain": [
       "cos(log(x))/x"
      ]
     },
     "metadata": {},
     "output_type": "display_data"
    },
    {
     "name": "stdout",
     "output_type": "stream",
     "text": [
      "N':\n"
     ]
    },
    {
     "data": {
      "text/latex": [
       "$\\displaystyle 2 e^{2 x - 2}$"
      ],
      "text/plain": [
       "2*exp(2*x - 2)"
      ]
     },
     "metadata": {},
     "output_type": "display_data"
    },
    {
     "name": "stdout",
     "output_type": "stream",
     "text": [
      "\n",
      "L'Hôpital's rule results:\n",
      "When x->0 for T': 1\n",
      "When x->0 for N': 2\n",
      "When x->0 for T'/N': 1/2\n",
      "\n",
      "Second derivatives:\n",
      "T'':\n"
     ]
    },
    {
     "data": {
      "text/latex": [
       "$\\displaystyle - \\frac{\\sin{\\left(\\log{\\left(x \\right)} \\right)}}{x^{2}} - \\frac{\\cos{\\left(\\log{\\left(x \\right)} \\right)}}{x^{2}}$"
      ],
      "text/plain": [
       "-sin(log(x))/x**2 - cos(log(x))/x**2"
      ]
     },
     "metadata": {},
     "output_type": "display_data"
    },
    {
     "name": "stdout",
     "output_type": "stream",
     "text": [
      "N'':\n"
     ]
    },
    {
     "data": {
      "text/latex": [
       "$\\displaystyle 4 e^{2 x - 2}$"
      ],
      "text/plain": [
       "4*exp(2*x - 2)"
      ]
     },
     "metadata": {},
     "output_type": "display_data"
    },
    {
     "name": "stdout",
     "output_type": "stream",
     "text": [
      "\n",
      "L'Hôpital's rule results:\n",
      "When x->0 for T'': -1\n",
      "When x->0 for N'': 4\n",
      "When x->0 for T''/N'': -1/4\n",
      "\n",
      "L'Hôpital's regel(TK 6.3.2) siger at hvis lim x->0(T''/N'') eksistere så er lim x->0(T/N)=lim x->0(T''/N'')\n"
     ]
    }
   ],
   "source": [
    "import sympy as sp\n",
    "from sympy.abc import x \n",
    "\n",
    "# a\n",
    "a = 1\n",
    "\n",
    "# Define the original expressions. Her er T for \"tæller\", og N for \"nævner\"\n",
    "T = sp.sin(sp.log(x))\n",
    "N = sp.exp(2*(x-1))-1\n",
    "\n",
    "# Display the original expressions\n",
    "print(\"Original expressions:\")\n",
    "print(\"T:\")\n",
    "display(T)\n",
    "print(\"N:\")\n",
    "display(N)\n",
    "\n",
    "# Substitute x=0 into the derivatives\n",
    "T_result = T.subs(x, a)\n",
    "N_result = N.subs(x, a)\n",
    "result = T_result / N_result\n",
    "\n",
    "print(\"Original expressions Check '0/0':\")\n",
    "print(\"When x->0 for T:\", T_result)\n",
    "print(\"When x->0 for N:\", N_result)\n",
    "print(\"When x->0 for T/N:\", result)\n",
    "\n",
    "# Calculate the first derivatives\n",
    "Dx_T_1 = sp.diff(T, x)\n",
    "Dx_N_1 = sp.diff(N, x)\n",
    "\n",
    "# Display the first derivatives\n",
    "print(\"\\nFirst derivatives:\")\n",
    "print(\"T':\")\n",
    "display(Dx_T_1)\n",
    "print(\"N':\")\n",
    "display(Dx_N_1)\n",
    "# Substitute x=0 into the derivatives\n",
    "T_result_1 = Dx_T_1.subs(x, a)\n",
    "N_result_1 = Dx_N_1.subs(x, a)\n",
    "result_1 = T_result_1 / N_result_1\n",
    "# Display the results\n",
    "print(\"\\nL'Hôpital's rule results:\")\n",
    "print(\"When x->0 for T':\", T_result_1)\n",
    "print(\"When x->0 for N':\", N_result_1)\n",
    "print(\"When x->0 for T'/N':\", result_1)\n",
    "\n",
    "# Calculate the second derivatives\n",
    "Dx_T_2 = sp.diff(Dx_T_1, x)\n",
    "Dx_N_2 = sp.diff(Dx_N_1, x)\n",
    "\n",
    "# Display the second derivatives\n",
    "print(\"\\nSecond derivatives:\")\n",
    "print(\"T'':\")\n",
    "display(Dx_T_2)\n",
    "print(\"N'':\")\n",
    "display(Dx_N_2)\n",
    "\n",
    "# Substitute x=0 into the derivatives\n",
    "T_result_2 = Dx_T_2.subs(x, a)\n",
    "N_result_2 = Dx_N_2.subs(x, a)\n",
    "result_2 = T_result_2 / N_result_2\n",
    "# Display the results\n",
    "print(\"\\nL'Hôpital's rule results:\")\n",
    "print(\"When x->0 for T'':\", T_result_2)\n",
    "print(\"When x->0 for N'':\", N_result_2)\n",
    "print(\"When x->0 for T''/N'':\", result_2)\n",
    "\n",
    "print(\"\\nL'Hôpital's regel(TK 6.3.2) siger at hvis lim x->0(T''/N'') eksistere så er lim x->0(T/N)=lim x->0(T''/N'')\")\n"
   ]
  },
  {
   "cell_type": "code",
   "execution_count": 213,
   "metadata": {},
   "outputs": [
    {
     "data": {
      "text/latex": [
       "$\\displaystyle -2$"
      ],
      "text/plain": [
       "-2"
      ]
     },
     "execution_count": 213,
     "metadata": {},
     "output_type": "execute_result"
    }
   ],
   "source": [
    "import sympy as sp\n",
    "from sympy.abc import x \n",
    "\n",
    "# Man kan også finde grænseværdier med følgende. Dog hvis man bruger dette i det øverste script, \n",
    "# så siger computeren at grænseværdien er 0, i dem hvor det giver et '0/0'-udtryk. Hvilket ikke er godt\n",
    "f = (x ** 2 - 4)/(x + 2)* sp.exp(-x) \n",
    "sp.limit(f, x, 0)\n"
   ]
  },
  {
   "cell_type": "markdown",
   "metadata": {},
   "source": [
    "## Matricer"
   ]
  },
  {
   "cell_type": "markdown",
   "metadata": {},
   "source": [
    "### Definering af identitetsmatricen"
   ]
  },
  {
   "cell_type": "code",
   "execution_count": 1,
   "metadata": {},
   "outputs": [],
   "source": [
    "import sympy as sp\n",
    "from sympy import Matrix\n",
    "from sympy.abc import a, b, c\n",
    "from sympy.matrices import eye\n",
    "\n",
    "# Vi definerer identitets matricerne\n",
    "I_2 = eye(2)\n",
    "I_3 = eye(3)\n",
    "I_4 = eye(4)"
   ]
  },
  {
   "cell_type": "markdown",
   "metadata": {},
   "source": [
    "### Matrix multiplikation"
   ]
  },
  {
   "cell_type": "code",
   "execution_count": 1,
   "metadata": {},
   "outputs": [
    {
     "name": "stdout",
     "output_type": "stream",
     "text": [
      "matrix A*B:\n"
     ]
    },
    {
     "data": {
      "text/latex": [
       "$\\displaystyle \\left[\\begin{matrix}1 & 0 & 0\\\\0 & 1 & 0\\\\0 & 1 & 2\\end{matrix}\\right]$"
      ],
      "text/plain": [
       "Matrix([\n",
       "[1, 0, 0],\n",
       "[0, 1, 0],\n",
       "[0, 1, 2]])"
      ]
     },
     "metadata": {},
     "output_type": "display_data"
    },
    {
     "data": {
      "text/latex": [
       "$\\displaystyle \\left[\\begin{matrix}1\\\\1\\\\-1\\end{matrix}\\right]$"
      ],
      "text/plain": [
       "Matrix([\n",
       "[ 1],\n",
       "[ 1],\n",
       "[-1]])"
      ]
     },
     "metadata": {},
     "output_type": "display_data"
    },
    {
     "name": "stdout",
     "output_type": "stream",
     "text": [
      "Matrix multiplikations produktet\n"
     ]
    },
    {
     "data": {
      "text/latex": [
       "$\\displaystyle \\left[\\begin{matrix}1\\\\1\\\\-1\\end{matrix}\\right]$"
      ],
      "text/plain": [
       "Matrix([\n",
       "[ 1],\n",
       "[ 1],\n",
       "[-1]])"
      ]
     },
     "execution_count": 1,
     "metadata": {},
     "output_type": "execute_result"
    }
   ],
   "source": [
    "import sympy as sp\n",
    "from sympy import Matrix\n",
    "from sympy.abc import a, b, c\n",
    "\n",
    "# Matrix multiplikation (husk at for matricerne m x n og p x q så skal n og p være ens for at der kan laves matrix multiplikation)\n",
    "A = Matrix([[1, 0, 0],[0, 1, 0],[0, 1, 2]])\n",
    "B = Matrix([[1],[1],[-1]])\n",
    "C = Matrix([[0,2],[-1,-2],[3,0]])\n",
    "\n",
    "print('matrix A*B:')\n",
    "display(A,B)\n",
    "\n",
    "print('Matrix multiplikations produktet')\n",
    "A*B"
   ]
  },
  {
   "cell_type": "markdown",
   "metadata": {},
   "source": [
    "### Den inverse vektor"
   ]
  },
  {
   "cell_type": "code",
   "execution_count": 234,
   "metadata": {},
   "outputs": [
    {
     "name": "stdout",
     "output_type": "stream",
     "text": [
      "matrix A:\n"
     ]
    },
    {
     "data": {
      "text/latex": [
       "$\\displaystyle \\left[\\begin{matrix}1 & 2 & 1\\\\0 & -2 & 3\\\\4 & 1 & 2\\end{matrix}\\right]$"
      ],
      "text/plain": [
       "Matrix([\n",
       "[1,  2, 1],\n",
       "[0, -2, 3],\n",
       "[4,  1, 2]])"
      ]
     },
     "metadata": {},
     "output_type": "display_data"
    },
    {
     "name": "stdout",
     "output_type": "stream",
     "text": [
      "inverse matrix til A:\n"
     ]
    },
    {
     "data": {
      "text/latex": [
       "$\\displaystyle \\left[\\begin{matrix}- \\frac{7}{25} & - \\frac{3}{25} & \\frac{8}{25}\\\\\\frac{12}{25} & - \\frac{2}{25} & - \\frac{3}{25}\\\\\\frac{8}{25} & \\frac{7}{25} & - \\frac{2}{25}\\end{matrix}\\right]$"
      ],
      "text/plain": [
       "Matrix([\n",
       "[-7/25, -3/25,  8/25],\n",
       "[12/25, -2/25, -3/25],\n",
       "[ 8/25,  7/25, -2/25]])"
      ]
     },
     "metadata": {},
     "output_type": "display_data"
    },
    {
     "name": "stdout",
     "output_type": "stream",
     "text": [
      "matrix A udvidet med identitetsmatricen:\n"
     ]
    },
    {
     "data": {
      "text/latex": [
       "$\\displaystyle \\left[\\begin{matrix}1 & 2 & 1 & 1 & 0 & 0\\\\0 & -2 & 3 & 0 & 1 & 0\\\\4 & 1 & 2 & 0 & 0 & 1\\end{matrix}\\right]$"
      ],
      "text/plain": [
       "Matrix([\n",
       "[1,  2, 1, 1, 0, 0],\n",
       "[0, -2, 3, 0, 1, 0],\n",
       "[4,  1, 2, 0, 0, 1]])"
      ]
     },
     "metadata": {},
     "output_type": "display_data"
    },
    {
     "name": "stdout",
     "output_type": "stream",
     "text": [
      "inverse matrix til A ved hjælp af identitetsmatricen:\n"
     ]
    },
    {
     "data": {
      "text/latex": [
       "$\\displaystyle \\left[\\begin{matrix}1 & 0 & 0 & - \\frac{7}{25} & - \\frac{3}{25} & \\frac{8}{25}\\\\0 & 1 & 0 & \\frac{12}{25} & - \\frac{2}{25} & - \\frac{3}{25}\\\\0 & 0 & 1 & \\frac{8}{25} & \\frac{7}{25} & - \\frac{2}{25}\\end{matrix}\\right]$"
      ],
      "text/plain": [
       "Matrix([\n",
       "[1, 0, 0, -7/25, -3/25,  8/25],\n",
       "[0, 1, 0, 12/25, -2/25, -3/25],\n",
       "[0, 0, 1,  8/25,  7/25, -2/25]])"
      ]
     },
     "metadata": {},
     "output_type": "display_data"
    }
   ],
   "source": [
    "import sympy as sp\n",
    "from sympy import Matrix\n",
    "from sympy.abc import a, b, c\n",
    "\n",
    "A = Matrix([[1,2,1],[0,-2,3], [4,1,2]])\n",
    "\n",
    "print('matrix A:')\n",
    "display(A)\n",
    "\n",
    "print('inverse matrix til A:')\n",
    "# skriv matricen**-1 for at finde invers\n",
    "# A**-1 \n",
    "# Man kan også skrive matricen.inv()\n",
    "display(A.inv())\n",
    "\n",
    "# Med identitetsmatricen\n",
    "A = Matrix([[1,2,1,1,0,0],[0,-2,3,0,1,0], [4,1,2,0,0,1]])\n",
    "print('matrix A udvidet med identitetsmatricen:')\n",
    "display(A)\n",
    "\n",
    "print('inverse matrix til A ved hjælp af identitetsmatricen:')\n",
    "display(A.rref()[0])"
   ]
  },
  {
   "cell_type": "markdown",
   "metadata": {},
   "source": [
    "### reducer til række-echelon form(Kan ikke give et resultat ift. en varibel som s)"
   ]
  },
  {
   "cell_type": "code",
   "execution_count": 217,
   "metadata": {},
   "outputs": [
    {
     "name": "stdout",
     "output_type": "stream",
     "text": [
      "matrix A:\n"
     ]
    },
    {
     "data": {
      "text/latex": [
       "$\\displaystyle \\left[\\begin{matrix}1 & 0 & 1 & 2 & 1\\\\1 & 1 & 0 & 1 & 1\\\\2 & 0 & 1 & 1 & 1\\\\1 & 0 & 1 & 1 & 1\\end{matrix}\\right]$"
      ],
      "text/plain": [
       "Matrix([\n",
       "[1, 0, 1, 2, 1],\n",
       "[1, 1, 0, 1, 1],\n",
       "[2, 0, 1, 1, 1],\n",
       "[1, 0, 1, 1, 1]])"
      ]
     },
     "metadata": {},
     "output_type": "display_data"
    },
    {
     "name": "stdout",
     "output_type": "stream",
     "text": [
      "matrix A på reduceret række-echelon form:\n"
     ]
    },
    {
     "data": {
      "text/latex": [
       "$\\displaystyle \\left[\\begin{matrix}1 & 0 & 0 & 0 & 0\\\\0 & 1 & 0 & 0 & 1\\\\0 & 0 & 1 & 0 & 1\\\\0 & 0 & 0 & 1 & 0\\end{matrix}\\right]$"
      ],
      "text/plain": [
       "Matrix([\n",
       "[1, 0, 0, 0, 0],\n",
       "[0, 1, 0, 0, 1],\n",
       "[0, 0, 1, 0, 1],\n",
       "[0, 0, 0, 1, 0]])"
      ]
     },
     "metadata": {},
     "output_type": "display_data"
    }
   ],
   "source": [
    "import sympy as sp\n",
    "from sympy import Matrix\n",
    "from sympy.abc import a, b, c\n",
    "\n",
    "A = Matrix([[1,0,1,2,1],[1,1,0,1,1],[2,0,1,1,1],[1,0,1,1,1]])\n",
    "print('matrix A:')\n",
    "display(A)\n",
    "\n",
    "print('matrix A på reduceret række-echelon form:')\n",
    "display(A.rref()[0])"
   ]
  },
  {
   "cell_type": "markdown",
   "metadata": {},
   "source": [
    "### Determinanten"
   ]
  },
  {
   "cell_type": "code",
   "execution_count": 218,
   "metadata": {},
   "outputs": [
    {
     "name": "stdout",
     "output_type": "stream",
     "text": [
      "matrice A:\n"
     ]
    },
    {
     "data": {
      "text/latex": [
       "$\\displaystyle \\left[\\begin{matrix}1 & 2 & 1\\\\0 & -2 & 3\\\\4 & 1 & 2\\end{matrix}\\right]$"
      ],
      "text/plain": [
       "Matrix([\n",
       "[1,  2, 1],\n",
       "[0, -2, 3],\n",
       "[4,  1, 2]])"
      ]
     },
     "metadata": {},
     "output_type": "display_data"
    },
    {
     "name": "stdout",
     "output_type": "stream",
     "text": [
      "Determinatnen af matrice A: 25\n"
     ]
    }
   ],
   "source": [
    "import sympy as sp\n",
    "from sympy import Matrix\n",
    "from sympy.abc import a, b, c\n",
    "\n",
    "A = Matrix([[1,2,1],[0,-2,3],[4,1,2]])\n",
    "# vi kan finde determinanten af matricen ved matricen.det()\n",
    "print('matrice A:')\n",
    "display(A)\n",
    "print('Determinatnen af matrice A:', A.det())"
   ]
  },
  {
   "cell_type": "markdown",
   "metadata": {},
   "source": [
    "### Normal differentiering og Partiel differentiering\n",
    "*Husk at normal diff. er blot i et variabel og partiel differentiering, er når man har funktioner af flere variabler*"
   ]
  },
  {
   "cell_type": "code",
   "execution_count": 219,
   "metadata": {},
   "outputs": [
    {
     "data": {
      "text/latex": [
       "$\\displaystyle x^{2} + y$"
      ],
      "text/plain": [
       "x**2 + y"
      ]
     },
     "metadata": {},
     "output_type": "display_data"
    },
    {
     "name": "stdout",
     "output_type": "stream",
     "text": [
      "df/dx: 2*x\n",
      "df/dx: 1\n"
     ]
    }
   ],
   "source": [
    "import sympy as sp\n",
    "\n",
    "# Definér symboler som bruges i formelen\n",
    "x, y = sp.symbols('x y') # Her definerer jeg bare nogle symboler til de enkelte værdier\n",
    "\n",
    "# Formlen\n",
    "formula = x**2+y\n",
    "\n",
    "# Udskriv det resulterende udtryk\n",
    "display(formula)\n",
    "\n",
    "# Beregn partielle afledede\n",
    "Dx = sp.diff(formula, x)\n",
    "Dy = sp.diff(formula, y)\n",
    "\n",
    "# f.eks. gradienten\n",
    "print('df/dx:', Dx)\n",
    "print('df/dx:', Dy)\n",
    "\n"
   ]
  },
  {
   "cell_type": "markdown",
   "metadata": {},
   "source": [
    "### Integrering"
   ]
  },
  {
   "cell_type": "code",
   "execution_count": 14,
   "metadata": {},
   "outputs": [
    {
     "name": "stdout",
     "output_type": "stream",
     "text": [
      "Funktionen f(x):\n"
     ]
    },
    {
     "data": {
      "text/latex": [
       "$\\displaystyle \\frac{1}{x + 1}$"
      ],
      "text/plain": [
       "1/(x + 1)"
      ]
     },
     "metadata": {},
     "output_type": "display_data"
    },
    {
     "name": "stdout",
     "output_type": "stream",
     "text": [
      "Stamfunktionen F(x): er\n"
     ]
    },
    {
     "data": {
      "text/latex": [
       "$\\displaystyle \\log{\\left(x + 1 \\right)}$"
      ],
      "text/plain": [
       "log(x + 1)"
      ]
     },
     "metadata": {},
     "output_type": "display_data"
    }
   ],
   "source": [
    "import sympy as sp\n",
    "\n",
    "# Definér symboler som bruges i formelen\n",
    "x  = sp.symbols('x') \n",
    "\n",
    "# Formlen\n",
    "formula = 1/(1+x)\n",
    "\n",
    "# Udskriv det resulterende udtryk\n",
    "print('Funktionen f(x):')\n",
    "display(formula)\n",
    "\n",
    "# Beregn Integralet\n",
    "int = sp.integrate(formula,x)\n",
    "\n",
    "# f.eks. in\n",
    "print('Stamfunktionen F(x): er')\n",
    "display(int)\n"
   ]
  },
  {
   "cell_type": "markdown",
   "metadata": {},
   "source": [
    "### Gradienten"
   ]
  },
  {
   "cell_type": "code",
   "execution_count": 221,
   "metadata": {},
   "outputs": [
    {
     "name": "stdout",
     "output_type": "stream",
     "text": [
      "Formlen: f(x,y):\n"
     ]
    },
    {
     "data": {
      "text/latex": [
       "$\\displaystyle x^{2} + y$"
      ],
      "text/plain": [
       "x**2 + y"
      ]
     },
     "metadata": {},
     "output_type": "display_data"
    },
    {
     "name": "stdout",
     "output_type": "stream",
     "text": [
      "Gradienten ∇f(x, y) = (2*x, 1)\n"
     ]
    }
   ],
   "source": [
    "import sympy as sp\n",
    "\n",
    "# Definér symboler som bruges i formelen\n",
    "x, y, nabla = sp.symbols('x y nabla') \n",
    "\n",
    "# Formlen\n",
    "formula = x**2 + y\n",
    "\n",
    "# Udskriv det resulterende udtryk\n",
    "print(f\"Formlen: f(x,y):\")\n",
    "display(formula)\n",
    "\n",
    "# Beregn partielle afledede\n",
    "Dx = sp.diff(formula, x)\n",
    "Dy = sp.diff(formula, y)\n",
    "\n",
    "\n",
    "# Udskriv gradienten\n",
    "print(f\"Gradienten ∇f(x, y) = ({Dx}, {Dy})\")"
   ]
  },
  {
   "cell_type": "markdown",
   "metadata": {},
   "source": [
    "### Hessematricen "
   ]
  },
  {
   "cell_type": "markdown",
   "metadata": {},
   "source": [
    "#### I 2 variable"
   ]
  },
  {
   "cell_type": "code",
   "execution_count": 222,
   "metadata": {},
   "outputs": [
    {
     "name": "stdout",
     "output_type": "stream",
     "text": [
      "Hessian Matrix(Hver firkantet parantes er en række):\n"
     ]
    },
    {
     "data": {
      "text/latex": [
       "$\\displaystyle \\left[\\begin{matrix}6 x \\sin{\\left(y \\right)} & 3 x^{2} \\cos{\\left(y \\right)}\\\\3 x^{2} \\cos{\\left(y \\right)} & - x^{3} \\sin{\\left(y \\right)}\\end{matrix}\\right]$"
      ],
      "text/plain": [
       "Matrix([\n",
       "[   6*x*sin(y), 3*x**2*cos(y)],\n",
       "[3*x**2*cos(y),  -x**3*sin(y)]])"
      ]
     },
     "metadata": {},
     "output_type": "display_data"
    }
   ],
   "source": [
    "from sympy import symbols, hessian\n",
    "\n",
    "# Define variables\n",
    "x, y = symbols('x y')\n",
    "\n",
    "# Define a function\n",
    "f = x**3 *sp.sin(y)\n",
    "\n",
    "# Compute the Hessian matrix of the function\n",
    "hessian_matrix = hessian(f, (x, y))\n",
    "\n",
    "print(\"Hessian Matrix(Hver firkantet parantes er en række):\")\n",
    "display(hessian_matrix)\n",
    "\n"
   ]
  },
  {
   "cell_type": "code",
   "execution_count": 223,
   "metadata": {},
   "outputs": [
    {
     "name": "stdout",
     "output_type": "stream",
     "text": [
      "Individual Entries:\n",
      "Entry (1, 1): 6*x*sin(y)\n",
      "Entry (1, 2): 3*x**2*cos(y)\n",
      "Entry (2, 1): 3*x**2*cos(y)\n",
      "Entry (2, 2): -x**3*sin(y)\n"
     ]
    }
   ],
   "source": [
    "# Accessing individual entries of the Hessian matrix\n",
    "entry_11 = hessian_matrix[0, 0]\n",
    "entry_12 = hessian_matrix[0, 1]\n",
    "entry_21 = hessian_matrix[1, 0]\n",
    "entry_22 = hessian_matrix[1, 1]\n",
    "\n",
    "print(\"Individual Entries:\")\n",
    "print(\"Entry (1, 1):\", entry_11)\n",
    "print(\"Entry (1, 2):\", entry_12)\n",
    "print(\"Entry (2, 1):\", entry_21)\n",
    "print(\"Entry (2, 2):\", entry_22)\n"
   ]
  },
  {
   "cell_type": "markdown",
   "metadata": {},
   "source": [
    "#### I 3 variable"
   ]
  },
  {
   "cell_type": "code",
   "execution_count": 224,
   "metadata": {},
   "outputs": [
    {
     "name": "stdout",
     "output_type": "stream",
     "text": [
      "3x3 Hessian Matrix(Hver firkantet parantes er en række):\n"
     ]
    },
    {
     "data": {
      "text/latex": [
       "$\\displaystyle \\left[\\begin{matrix}6 x & 0 & 0\\\\0 & 72 y^{2} z^{2} & 48 y^{3} z\\\\0 & 48 y^{3} z & 12 y^{4}\\end{matrix}\\right]$"
      ],
      "text/plain": [
       "Matrix([\n",
       "[6*x,            0,         0],\n",
       "[  0, 72*y**2*z**2, 48*y**3*z],\n",
       "[  0,    48*y**3*z,   12*y**4]])"
      ]
     },
     "metadata": {},
     "output_type": "display_data"
    }
   ],
   "source": [
    "from sympy import symbols, hessian\n",
    "\n",
    "\n",
    "# Define variables\n",
    "x, y, z = symbols('x y z')\n",
    "\n",
    "# Define a function\n",
    "f = x**3 + 2*y**4 * 3*z**2\n",
    "\n",
    "# Compute the 3x3 Hessian matrix of the function\n",
    "hessian_matrix = hessian(f, (x, y, z))\n",
    "\n",
    "print(\"3x3 Hessian Matrix(Hver firkantet parantes er en række):\")\n",
    "display(hessian_matrix)"
   ]
  },
  {
   "cell_type": "code",
   "execution_count": 225,
   "metadata": {},
   "outputs": [
    {
     "name": "stdout",
     "output_type": "stream",
     "text": [
      "Individual Entries:\n",
      "Entry (1, 1): 6*x\n",
      "Entry (1, 2): 0\n",
      "Entry (1, 3): 0\n",
      "Entry (2, 1): 0\n",
      "Entry (2, 2): 72*y**2*z**2\n",
      "Entry (2, 3): 48*y**3*z\n",
      "Entry (3, 1): 0\n",
      "Entry (3, 2): 48*y**3*z\n",
      "Entry (3, 3): 12*y**4\n"
     ]
    }
   ],
   "source": [
    "# Accessing individual entries of the Hessian matrix\n",
    "entry_11 = hessian_matrix[0, 0]\n",
    "entry_12 = hessian_matrix[0, 1]\n",
    "entry_13 = hessian_matrix[0, 2]\n",
    "entry_21 = hessian_matrix[1, 0]\n",
    "entry_22 = hessian_matrix[1, 1]\n",
    "entry_23 = hessian_matrix[1, 2]\n",
    "entry_31 = hessian_matrix[2, 0]\n",
    "entry_32 = hessian_matrix[2, 1]\n",
    "entry_33 = hessian_matrix[2, 2]\n",
    "\n",
    "print(\"Individual Entries:\")\n",
    "print(\"Entry (1, 1):\", entry_11)\n",
    "print(\"Entry (1, 2):\", entry_12)\n",
    "print(\"Entry (1, 3):\", entry_13)\n",
    "print(\"Entry (2, 1):\", entry_21)\n",
    "print(\"Entry (2, 2):\", entry_22)\n",
    "print(\"Entry (2, 3):\", entry_23)\n",
    "print(\"Entry (3, 1):\", entry_31)\n",
    "print(\"Entry (3, 2):\", entry_32)\n",
    "print(\"Entry (3, 3):\", entry_33)\n"
   ]
  },
  {
   "cell_type": "markdown",
   "metadata": {},
   "source": [
    "## Plotting af funktioner"
   ]
  },
  {
   "cell_type": "code",
   "execution_count": null,
   "metadata": {},
   "outputs": [],
   "source": [
    "\n"
   ]
  }
 ],
 "metadata": {
  "kernelspec": {
   "display_name": "base",
   "language": "python",
   "name": "python3"
  },
  "language_info": {
   "codemirror_mode": {
    "name": "ipython",
    "version": 3
   },
   "file_extension": ".py",
   "mimetype": "text/x-python",
   "name": "python",
   "nbconvert_exporter": "python",
   "pygments_lexer": "ipython3",
   "version": "3.11.4"
  }
 },
 "nbformat": 4,
 "nbformat_minor": 2
}
